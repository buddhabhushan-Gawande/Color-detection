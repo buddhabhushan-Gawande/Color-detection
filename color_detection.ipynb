{
 "cells": [
  {
   "cell_type": "code",
   "execution_count": 14,
   "metadata": {},
   "outputs": [],
   "source": [
    "import numpy as np\n",
    "import cv2 as cv\n",
    "\n",
    "cap = cv.VideoCapture(0)\n",
    "\n",
    "# obj\n",
    "class mask_all:\n",
    "    def __init__(self,mat,low,up):\n",
    "        self.lower_l = np.array(low)\n",
    "        self.upper_l = np.array(up)\n",
    "        self.matrix = cv.cvtColor(mat,cv.COLOR_BGR2HSV)\n",
    "        self.outpt = cv.inRange(self.matrix,self.lower_l,self.upper_l)\n",
    "    def bounding_rect(self,frame,contour,color,text):\n",
    "        for cont in contour:\n",
    "            if cv.contourArea(cont) > 1000:\n",
    "                x1 , y1 , l , w = cv.boundingRect(cont)\n",
    "                self.rect = cv.rectangle(frame , (x1,y1) , (x1+l , y1+w) , color , 2)\n",
    "                co_ord = (x1,y1-10)\n",
    "                cv.putText(frame,text,co_ord,cv.FONT_HERSHEY_COMPLEX_SMALL,1,color,2)\n",
    "\n",
    "while True:\n",
    "    tf, frame = cap.read()\n",
    "\n",
    "    # adding a filter\n",
    "    blur = cv.bilateralFilter(frame,9,50,75)\n",
    "\n",
    "    # color mask\n",
    "    green = mask_all(blur,[40,100,100],[100,255,255])\n",
    "    blue = mask_all(blur,[90,70,100],[120,255,255])\n",
    "    red = mask_all(blur,[0,50,90],[30,255,255])\n",
    "\n",
    "    # contours\n",
    "    contour_green,val = cv.findContours(green.outpt,cv.RETR_TREE,cv.CHAIN_APPROX_SIMPLE)\n",
    "    contour_blue,val = cv.findContours(blue.outpt,cv.RETR_TREE,cv.CHAIN_APPROX_SIMPLE)\n",
    "    contour_red,val = cv.findContours(red.outpt,cv.RETR_TREE,cv.CHAIN_APPROX_SIMPLE)\n",
    "\n",
    "\n",
    "    green.bounding_rect(frame,contour_green,[2,255,5],\"green\")\n",
    "    blue.bounding_rect(frame,contour_blue,[255,5,0],\"blue\")\n",
    "    red.bounding_rect(frame,contour_red,[5,0,255],\"red\")\n",
    "\n",
    "\n",
    "    cv.imshow(\"view\",frame)\n",
    "    if cv.waitKey(1) == ord(\"q\"):\n",
    "        break\n",
    "cap.release()\n",
    "cv.destroyAllWindows()\n"
   ]
  }
 ],
 "metadata": {
  "kernelspec": {
   "display_name": "Python 3",
   "language": "python",
   "name": "python3"
  },
  "language_info": {
   "codemirror_mode": {
    "name": "ipython",
    "version": 3
   },
   "file_extension": ".py",
   "mimetype": "text/x-python",
   "name": "python",
   "nbconvert_exporter": "python",
   "pygments_lexer": "ipython3",
   "version": "3.11.2"
  }
 },
 "nbformat": 4,
 "nbformat_minor": 2
}
